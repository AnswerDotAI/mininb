{
 "cells": [
  {
   "cell_type": "markdown",
   "id": "672407a0",
   "metadata": {},
   "source": [
    "# Impl"
   ]
  },
  {
   "cell_type": "code",
   "execution_count": 1,
   "id": "4b33f7e7",
   "metadata": {},
   "outputs": [],
   "source": [
    "#| default_exp app"
   ]
  },
  {
   "cell_type": "code",
   "execution_count": 2,
   "id": "d4064f8b",
   "metadata": {},
   "outputs": [],
   "source": [
    "#|export\n",
    "import uvicorn\n",
    "from dataclasses import dataclass\n",
    "\n",
    "from starlette.responses import FileResponse, RedirectResponse, JSONResponse, HTMLResponse\n",
    "from fastcore.utils import *\n",
    "from fastcore.xml import *\n",
    "from fasthtml import *"
   ]
  },
  {
   "cell_type": "code",
   "execution_count": 3,
   "id": "6c3dcdbc",
   "metadata": {},
   "outputs": [],
   "source": [
    "from pprint import pprint\n",
    "from IPython import display"
   ]
  },
  {
   "cell_type": "code",
   "execution_count": 4,
   "id": "403b7068",
   "metadata": {},
   "outputs": [
    {
     "data": {
      "text/html": [
       "<link rel=\"stylesheet\" href=\"https://cdn.jsdelivr.net/npm/@picocss/pico@latest/css/pico.conditional.min.css\">\n"
      ],
      "text/plain": [
       "<IPython.core.display.HTML object>"
      ]
     },
     "execution_count": 4,
     "metadata": {},
     "output_type": "execute_result"
    }
   ],
   "source": [
    "show_html(picocondlink)"
   ]
  },
  {
   "cell_type": "code",
   "execution_count": 5,
   "id": "d0bfcb37",
   "metadata": {},
   "outputs": [
    {
     "data": {
      "application/javascript": [
       "var sel = '.cell-output, .output_area';\n",
       "document.querySelectorAll(sel).forEach(e => e.classList.add('pico'));\n",
       "\n",
       "new MutationObserver(ms => {\n",
       "  ms.forEach(m => {\n",
       "    m.addedNodes.forEach(n => {\n",
       "      if (n.nodeType === 1) {\n",
       "        var nc = n.classList;\n",
       "        if (nc && (nc.contains('cell-output') || nc.contains('output_area'))) {\n",
       "          nc.add('pico');\n",
       "        }\n",
       "        n.querySelectorAll(sel).forEach(e => e.classList.add('pico'));\n",
       "      }\n",
       "    });\n",
       "  });\n",
       "}).observe(document.body, { childList: true, subtree: true });"
      ],
      "text/plain": [
       "<IPython.core.display.Javascript object>"
      ]
     },
     "execution_count": 5,
     "metadata": {},
     "output_type": "execute_result"
    }
   ],
   "source": [
    "set_pico_cls()"
   ]
  },
  {
   "cell_type": "code",
   "execution_count": 6,
   "id": "c6581236",
   "metadata": {},
   "outputs": [],
   "source": [
    "#|export\n",
    "htmxscr = Script(\n",
    "    src=\"https://unpkg.com/htmx.org@1.9.12\", crossorigin=\"anonymous\",\n",
    "    integrity=\"sha384-ujb1lZYygJmzgSwoxRggbCHcjc0rB2XoQrxeTUQyRjrOnlCoYta87iKBWq3EsdM2\")\n",
    "mycss = Link(rel=\"stylesheet\", href=\"picovars.css\")"
   ]
  },
  {
   "cell_type": "code",
   "execution_count": 7,
   "id": "bd8b2baa",
   "metadata": {},
   "outputs": [],
   "source": [
    "# debug=True, exception_handlers=exception_handlers"
   ]
  },
  {
   "cell_type": "code",
   "execution_count": 8,
   "id": "51711fcf",
   "metadata": {},
   "outputs": [],
   "source": [
    "#|export\n",
    "@dataclass\n",
    "class TodoItem:\n",
    "    title: str; id: int = -1; done: bool = False\n",
    "\n",
    "TODO_LIST = [TodoItem(id=0, title=\"Start writing todo list\", done=True),\n",
    "             TodoItem(id=1, title=\"???\", done=False),\n",
    "             TodoItem(id=2, title=\"Profit\", done=False)]"
   ]
  },
  {
   "cell_type": "code",
   "execution_count": 9,
   "id": "7698b42c",
   "metadata": {},
   "outputs": [],
   "source": [
    "#|export\n",
    "app = FastHTML()\n",
    "\n",
    "reg_re_param(\"static\", \"ico|gif|jpg|jpeg|webm|css|js\")\n",
    "@app.get(\"/{fname:path}.{ext:static}\")\n",
    "async def image(fname:str, ext:str): return FileResponse(f'{fname}.{ext}')\n",
    "@app.get(\"/static/{fname:path}\")\n",
    "async def static(fname:str): return FileResponse(f'static/{fname}')"
   ]
  },
  {
   "cell_type": "code",
   "execution_count": 10,
   "id": "cc434bf6",
   "metadata": {},
   "outputs": [],
   "source": [
    "#|export\n",
    "id_curr = 'current-todo'\n",
    "id_list = 'todo-list'\n",
    "def tid(id): return f'todo-{id}'"
   ]
  },
  {
   "cell_type": "code",
   "execution_count": 11,
   "id": "361f28eb",
   "metadata": {},
   "outputs": [],
   "source": [
    "#|export\n",
    "@patch\n",
    "def __xt__(self:TodoItem):\n",
    "    show = AX(self.title, f'/todos/{self.id}', id_curr)\n",
    "    edit = AX('edit',     f'/edit/{self.id}' , id_curr)\n",
    "    dt = ' (done)' if self.done else ''\n",
    "    return Li(show, dt, ' | ', edit, id=tid(self.id))"
   ]
  },
  {
   "cell_type": "code",
   "execution_count": 12,
   "id": "1dae9759",
   "metadata": {},
   "outputs": [],
   "source": [
    "@patch\n",
    "def _repr_html_(self:XT): return to_xml(self)\n",
    "\n",
    "@patch\n",
    "def _repr_html_(self:TodoItem): return self.__xt__()._repr_html_()\n",
    "\n",
    "@patch\n",
    "def md(self:XT): return display.Markdown(self._repr_markdown_())\n",
    "\n",
    "@patch\n",
    "def md(self:TodoItem): return self.__xt__().md()"
   ]
  },
  {
   "cell_type": "code",
   "execution_count": null,
   "id": "af2f82f1",
   "metadata": {},
   "outputs": [],
   "source": []
  },
  {
   "cell_type": "code",
   "execution_count": 13,
   "id": "96541e48",
   "metadata": {},
   "outputs": [
    {
     "data": {
      "text/html": [
       "<li id=\"todo-0\">\n",
       "  <a href=\"#\" hx-get=\"/todos/0\" hx-target=\"#current-todo\">\n",
       "Start writing todo list\n",
       "  </a>\n",
       " (done)\n",
       " | \n",
       "  <a href=\"#\" hx-get=\"/edit/0\" hx-target=\"#current-todo\">\n",
       "edit\n",
       "  </a>\n",
       "</li>\n"
      ],
      "text/plain": [
       "TodoItem(title='Start writing todo list', id=0, done=True)"
      ]
     },
     "execution_count": 13,
     "metadata": {},
     "output_type": "execute_result"
    }
   ],
   "source": [
    "todo = TODO_LIST[0]\n",
    "todo"
   ]
  },
  {
   "cell_type": "code",
   "execution_count": 14,
   "id": "d962eab1",
   "metadata": {},
   "outputs": [
    {
     "data": {
      "text/markdown": [
       "```html\n",
       "<li id=\"todo-0\">\n",
       "  <a href=\"#\" hx-get=\"/todos/0\" hx-target=\"#current-todo\">\n",
       "Start writing todo list\n",
       "  </a>\n",
       " (done)\n",
       " | \n",
       "  <a href=\"#\" hx-get=\"/edit/0\" hx-target=\"#current-todo\">\n",
       "edit\n",
       "  </a>\n",
       "</li>\n",
       "\n",
       "```"
      ],
      "text/plain": [
       "<IPython.core.display.Markdown object>"
      ]
     },
     "execution_count": 14,
     "metadata": {},
     "output_type": "execute_result"
    }
   ],
   "source": [
    "todo.md()"
   ]
  },
  {
   "cell_type": "code",
   "execution_count": 15,
   "id": "f37dd308",
   "metadata": {},
   "outputs": [
    {
     "data": {
      "text/html": [
       "<ul>\n",
       "  <li id=\"todo-0\">\n",
       "    <a href=\"#\" hx-get=\"/todos/0\" hx-target=\"#current-todo\">\n",
       "Start writing todo list\n",
       "    </a>\n",
       " (done)\n",
       " | \n",
       "    <a href=\"#\" hx-get=\"/edit/0\" hx-target=\"#current-todo\">\n",
       "edit\n",
       "    </a>\n",
       "  </li>\n",
       "  <li id=\"todo-1\">\n",
       "    <a href=\"#\" hx-get=\"/todos/1\" hx-target=\"#current-todo\">\n",
       "???\n",
       "    </a>\n",
       "\n",
       " | \n",
       "    <a href=\"#\" hx-get=\"/edit/1\" hx-target=\"#current-todo\">\n",
       "edit\n",
       "    </a>\n",
       "  </li>\n",
       "  <li id=\"todo-2\">\n",
       "    <a href=\"#\" hx-get=\"/todos/2\" hx-target=\"#current-todo\">\n",
       "Profit\n",
       "    </a>\n",
       "\n",
       " | \n",
       "    <a href=\"#\" hx-get=\"/edit/2\" hx-target=\"#current-todo\">\n",
       "edit\n",
       "    </a>\n",
       "  </li>\n",
       "</ul>\n"
      ],
      "text/markdown": [
       "```html\n",
       "<ul>\n",
       "  <li id=\"todo-0\">\n",
       "    <a href=\"#\" hx-get=\"/todos/0\" hx-target=\"#current-todo\">\n",
       "Start writing todo list\n",
       "    </a>\n",
       " (done)\n",
       " | \n",
       "    <a href=\"#\" hx-get=\"/edit/0\" hx-target=\"#current-todo\">\n",
       "edit\n",
       "    </a>\n",
       "  </li>\n",
       "  <li id=\"todo-1\">\n",
       "    <a href=\"#\" hx-get=\"/todos/1\" hx-target=\"#current-todo\">\n",
       "???\n",
       "    </a>\n",
       "\n",
       " | \n",
       "    <a href=\"#\" hx-get=\"/edit/1\" hx-target=\"#current-todo\">\n",
       "edit\n",
       "    </a>\n",
       "  </li>\n",
       "  <li id=\"todo-2\">\n",
       "    <a href=\"#\" hx-get=\"/todos/2\" hx-target=\"#current-todo\">\n",
       "Profit\n",
       "    </a>\n",
       "\n",
       " | \n",
       "    <a href=\"#\" hx-get=\"/edit/2\" hx-target=\"#current-todo\">\n",
       "edit\n",
       "    </a>\n",
       "  </li>\n",
       "</ul>\n",
       "\n",
       "```"
      ],
      "text/plain": [
       "['ul',\n",
       " (TodoItem(title='Start writing todo list', id=0, done=True),\n",
       "  TodoItem(title='???', id=1, done=False),\n",
       "  TodoItem(title='Profit', id=2, done=False)),\n",
       " {}]"
      ]
     },
     "execution_count": 15,
     "metadata": {},
     "output_type": "execute_result"
    }
   ],
   "source": [
    "Ul(*TODO_LIST)"
   ]
  },
  {
   "cell_type": "code",
   "execution_count": 16,
   "id": "b60610e1",
   "metadata": {},
   "outputs": [],
   "source": [
    "#|export\n",
    "def mk_input(**kw): return Input(name=\"title\", placeholder=\"New Todo\", **kw)"
   ]
  },
  {
   "cell_type": "code",
   "execution_count": 17,
   "id": "f6526908",
   "metadata": {},
   "outputs": [
    {
     "data": {
      "text/html": [
       "<form id=\"add\" name=\"add\">\n",
       "  <fieldset role=\"group\">\n",
       "    <input name=\"title\" placeholder=\"New Todo\">\n",
       "    <button>\n",
       "Add\n",
       "    </button>\n",
       "  </fieldset>\n",
       "</form>\n"
      ],
      "text/markdown": [
       "```html\n",
       "<form id=\"add\" name=\"add\">\n",
       "  <fieldset role=\"group\">\n",
       "    <input name=\"title\" placeholder=\"New Todo\">\n",
       "    <button>\n",
       "Add\n",
       "    </button>\n",
       "  </fieldset>\n",
       "</form>\n",
       "\n",
       "```"
      ],
      "text/plain": [
       "['form',\n",
       " (['fieldset',\n",
       "   (['input', (), {'name': 'title', 'placeholder': 'New Todo'}],\n",
       "    ['button', ('Add',), {}]),\n",
       "   {'role': 'group'}],),\n",
       " {'id': 'add', 'name': 'add'}]"
      ]
     },
     "execution_count": 17,
     "metadata": {},
     "output_type": "execute_result"
    }
   ],
   "source": [
    "inp = Group(mk_input(), Button(\"Add\"))\n",
    "add = Form(inp, id='add')\n",
    "add"
   ]
  },
  {
   "cell_type": "code",
   "execution_count": 18,
   "id": "5c582ac8",
   "metadata": {},
   "outputs": [
    {
     "data": {
      "text/html": [
       "<article>\n",
       "  <header>\n",
       "    <form id=\"add\" name=\"add\">\n",
       "      <fieldset role=\"group\">\n",
       "        <input name=\"title\" placeholder=\"New Todo\">\n",
       "        <button>\n",
       "Add\n",
       "        </button>\n",
       "      </fieldset>\n",
       "    </form>\n",
       "  </header>\n",
       "  <ul id=\"todo-list\">\n",
       "    <li id=\"todo-0\">\n",
       "      <a href=\"#\" hx-get=\"/todos/0\" hx-target=\"#current-todo\">\n",
       "Start writing todo list\n",
       "      </a>\n",
       " (done)\n",
       " | \n",
       "      <a href=\"#\" hx-get=\"/edit/0\" hx-target=\"#current-todo\">\n",
       "edit\n",
       "      </a>\n",
       "    </li>\n",
       "    <li id=\"todo-1\">\n",
       "      <a href=\"#\" hx-get=\"/todos/1\" hx-target=\"#current-todo\">\n",
       "???\n",
       "      </a>\n",
       "\n",
       " | \n",
       "      <a href=\"#\" hx-get=\"/edit/1\" hx-target=\"#current-todo\">\n",
       "edit\n",
       "      </a>\n",
       "    </li>\n",
       "    <li id=\"todo-2\">\n",
       "      <a href=\"#\" hx-get=\"/todos/2\" hx-target=\"#current-todo\">\n",
       "Profit\n",
       "      </a>\n",
       "\n",
       " | \n",
       "      <a href=\"#\" hx-get=\"/edit/2\" hx-target=\"#current-todo\">\n",
       "edit\n",
       "      </a>\n",
       "    </li>\n",
       "  </ul>\n",
       "  <footer>\n",
       "    <div id=\"current-todo\"></div>\n",
       "  </footer>\n",
       "</article>\n"
      ],
      "text/markdown": [
       "```html\n",
       "<article>\n",
       "  <header>\n",
       "    <form id=\"add\" name=\"add\">\n",
       "      <fieldset role=\"group\">\n",
       "        <input name=\"title\" placeholder=\"New Todo\">\n",
       "        <button>\n",
       "Add\n",
       "        </button>\n",
       "      </fieldset>\n",
       "    </form>\n",
       "  </header>\n",
       "  <ul id=\"todo-list\">\n",
       "    <li id=\"todo-0\">\n",
       "      <a href=\"#\" hx-get=\"/todos/0\" hx-target=\"#current-todo\">\n",
       "Start writing todo list\n",
       "      </a>\n",
       " (done)\n",
       " | \n",
       "      <a href=\"#\" hx-get=\"/edit/0\" hx-target=\"#current-todo\">\n",
       "edit\n",
       "      </a>\n",
       "    </li>\n",
       "    <li id=\"todo-1\">\n",
       "      <a href=\"#\" hx-get=\"/todos/1\" hx-target=\"#current-todo\">\n",
       "???\n",
       "      </a>\n",
       "\n",
       " | \n",
       "      <a href=\"#\" hx-get=\"/edit/1\" hx-target=\"#current-todo\">\n",
       "edit\n",
       "      </a>\n",
       "    </li>\n",
       "    <li id=\"todo-2\">\n",
       "      <a href=\"#\" hx-get=\"/todos/2\" hx-target=\"#current-todo\">\n",
       "Profit\n",
       "      </a>\n",
       "\n",
       " | \n",
       "      <a href=\"#\" hx-get=\"/edit/2\" hx-target=\"#current-todo\">\n",
       "edit\n",
       "      </a>\n",
       "    </li>\n",
       "  </ul>\n",
       "  <footer>\n",
       "    <div id=\"current-todo\"></div>\n",
       "  </footer>\n",
       "</article>\n",
       "\n",
       "```"
      ],
      "text/plain": [
       "['article',\n",
       " (['header',\n",
       "   (['form',\n",
       "     (['fieldset',\n",
       "       (['input', (), {'name': 'title', 'placeholder': 'New Todo'}],\n",
       "        ['button', ('Add',), {}]),\n",
       "       {'role': 'group'}],),\n",
       "     {'id': 'add', 'name': 'add'}],),\n",
       "   {}],\n",
       "  ['ul',\n",
       "   (TodoItem(title='Start writing todo list', id=0, done=True),\n",
       "    TodoItem(title='???', id=1, done=False),\n",
       "    TodoItem(title='Profit', id=2, done=False)),\n",
       "   {'id': 'todo-list'}],\n",
       "  ['footer', (['div', (), {'id': 'current-todo'}],), {}]),\n",
       " {}]"
      ]
     },
     "execution_count": 18,
     "metadata": {},
     "output_type": "execute_result"
    }
   ],
   "source": [
    "Card(Ul(*TODO_LIST, id=id_list),\n",
    "     header=add, footer=Div(id=id_curr))"
   ]
  },
  {
   "cell_type": "code",
   "execution_count": 19,
   "id": "0cd5c2c4",
   "metadata": {},
   "outputs": [],
   "source": [
    "#|export\n",
    "@app.get(\"/\")\n",
    "async def get_todos(req):\n",
    "    inp = Group(mk_input(), Button(\"Add\"))\n",
    "    add = Form(inp, hx_post=\"/\", target_id=id_list, hx_swap=\"beforeend\")\n",
    "    content = Card(\n",
    "        Ul(*TODO_LIST, id=id_list),\n",
    "        header=add, footer=Div(id=id_curr))\n",
    "    return Html(\n",
    "        Head(Title('TODO list'), htmxscr, picolink, mycss),\n",
    "        Body(Main(H1('Todo list'), content, cls='container')))"
   ]
  },
  {
   "cell_type": "code",
   "execution_count": 20,
   "id": "06a749c7",
   "metadata": {},
   "outputs": [],
   "source": [
    "#|export\n",
    "@app.post(\"/\")\n",
    "async def add_item(todo:TodoItem):\n",
    "    todo.id = len(TODO_LIST)+1\n",
    "    TODO_LIST.append(todo)\n",
    "    return todo, mk_input(hx_swap_oob='true')"
   ]
  },
  {
   "cell_type": "code",
   "execution_count": 21,
   "id": "7aa47da2",
   "metadata": {},
   "outputs": [],
   "source": [
    "#|export\n",
    "def find_todo(id):\n",
    "    try: return next(o for o in TODO_LIST if o.id==id)\n",
    "    except: raise NotFoundException(f'Todo #{id}') from None"
   ]
  },
  {
   "cell_type": "code",
   "execution_count": 22,
   "id": "c63f48ca",
   "metadata": {},
   "outputs": [],
   "source": [
    "#|export\n",
    "def clr_details(): return Div(hx_swap_oob='innerHTML', id=id_curr)"
   ]
  },
  {
   "cell_type": "code",
   "execution_count": 23,
   "id": "39fa9107",
   "metadata": {},
   "outputs": [],
   "source": [
    "#|export\n",
    "@app.get(\"/edit/{id}\")\n",
    "async def edit_item(id:int):\n",
    "    form = Form(Group(Input(id=\"title\"), Button(\"Save\")),\n",
    "                Hidden(id=\"id\"), Checkbox(id=\"done\", label='Done'),\n",
    "                hx_put=\"/\", target_id=tid(id), id=\"edit\")\n",
    "    return fill_form(form, find_todo(id))"
   ]
  },
  {
   "cell_type": "code",
   "execution_count": 24,
   "id": "b854dae2",
   "metadata": {},
   "outputs": [],
   "source": [
    "#|export\n",
    "@app.put(\"/\")\n",
    "async def update(todo: TodoItem):\n",
    "    fill_dataclass(todo, find_todo(todo.id))\n",
    "    return todo, clr_details()"
   ]
  },
  {
   "cell_type": "code",
   "execution_count": 25,
   "id": "c9279b70",
   "metadata": {},
   "outputs": [],
   "source": [
    "#|export\n",
    "@app.delete(\"/todos/{id}\")\n",
    "async def del_todo(id:int):\n",
    "    TODO_LIST.remove(find_todo(id))\n",
    "    return clr_details()"
   ]
  },
  {
   "cell_type": "code",
   "execution_count": 26,
   "id": "381e6b4d",
   "metadata": {},
   "outputs": [],
   "source": [
    "#|export\n",
    "@app.get(\"/todos/{id}\")\n",
    "async def get_todo(id:int):\n",
    "    todo = find_todo(id)\n",
    "    btn = Button('delete', hx_delete=f'/todos/{todo.id}',\n",
    "                 target_id=tid(todo.id), hx_swap=\"outerHTML\")\n",
    "    return Div(Div(todo.title), btn)"
   ]
  },
  {
   "cell_type": "markdown",
   "id": "47563f59",
   "metadata": {},
   "source": [
    "## export -"
   ]
  },
  {
   "cell_type": "code",
   "execution_count": 28,
   "id": "957ff1b9",
   "metadata": {},
   "outputs": [],
   "source": [
    "from nbdev.export import nb_export\n",
    "nb_export('app.ipynb', '.')"
   ]
  },
  {
   "cell_type": "code",
   "execution_count": null,
   "id": "177afbe8",
   "metadata": {},
   "outputs": [],
   "source": []
  }
 ],
 "metadata": {
  "kernelspec": {
   "display_name": "Python 3 (ipykernel)",
   "language": "python",
   "name": "python3"
  },
  "language_info": {
   "codemirror_mode": {
    "name": "ipython",
    "version": 3
   },
   "file_extension": ".py",
   "mimetype": "text/x-python",
   "name": "python",
   "nbconvert_exporter": "python",
   "pygments_lexer": "ipython3",
   "version": "3.11.8"
  }
 },
 "nbformat": 4,
 "nbformat_minor": 5
}
