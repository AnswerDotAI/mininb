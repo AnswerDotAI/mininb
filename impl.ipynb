{
 "cells": [
  {
   "cell_type": "markdown",
   "id": "672407a0",
   "metadata": {},
   "source": [
    "# Impl"
   ]
  },
  {
   "cell_type": "code",
   "execution_count": 1,
   "id": "4b33f7e7",
   "metadata": {},
   "outputs": [],
   "source": [
    "#| default_exp impl"
   ]
  },
  {
   "cell_type": "code",
   "execution_count": 2,
   "id": "d4064f8b",
   "metadata": {},
   "outputs": [],
   "source": [
    "#|export\n",
    "from dataclasses import dataclass\n",
    "\n",
    "from fastcore.utils import *\n",
    "from fastcore.xml import *\n",
    "from fasthtml import *"
   ]
  },
  {
   "cell_type": "code",
   "execution_count": 3,
   "id": "6c3dcdbc",
   "metadata": {},
   "outputs": [],
   "source": [
    "from pprint import pprint\n",
    "from IPython import display"
   ]
  },
  {
   "cell_type": "code",
   "execution_count": 4,
   "id": "403b7068",
   "metadata": {},
   "outputs": [
    {
     "data": {
      "text/html": [
       "<link rel=\"stylesheet\" href=\"https://cdn.jsdelivr.net/npm/@picocss/pico@latest/css/pico.conditional.min.css\">\n"
      ],
      "text/plain": [
       "<IPython.core.display.HTML object>"
      ]
     },
     "execution_count": 4,
     "metadata": {},
     "output_type": "execute_result"
    }
   ],
   "source": [
    "show(picocondlink)"
   ]
  },
  {
   "cell_type": "code",
   "execution_count": 5,
   "id": "d0bfcb37",
   "metadata": {},
   "outputs": [
    {
     "data": {
      "application/javascript": [
       "var sel = '.cell-output, .output_area';\n",
       "document.querySelectorAll(sel).forEach(e => e.classList.add('pico'));\n",
       "\n",
       "new MutationObserver(ms => {\n",
       "  ms.forEach(m => {\n",
       "    m.addedNodes.forEach(n => {\n",
       "      if (n.nodeType === 1) {\n",
       "        var nc = n.classList;\n",
       "        if (nc && (nc.contains('cell-output') || nc.contains('output_area'))) {\n",
       "          nc.add('pico');\n",
       "        }\n",
       "        n.querySelectorAll(sel).forEach(e => e.classList.add('pico'));\n",
       "      }\n",
       "    });\n",
       "  });\n",
       "}).observe(document.body, { childList: true, subtree: true });"
      ],
      "text/plain": [
       "<IPython.core.display.Javascript object>"
      ]
     },
     "execution_count": 5,
     "metadata": {},
     "output_type": "execute_result"
    }
   ],
   "source": [
    "set_pico_cls()"
   ]
  },
  {
   "cell_type": "code",
   "execution_count": 6,
   "id": "bd8b2baa",
   "metadata": {},
   "outputs": [],
   "source": [
    "# debug=True, exception_handlers=exception_handlers"
   ]
  },
  {
   "cell_type": "code",
   "execution_count": 7,
   "id": "de14f516",
   "metadata": {},
   "outputs": [],
   "source": [
    "#|export\n",
    "id_curr = 'current-todo'\n",
    "id_list = 'todo-list'\n",
    "def tid(id): return f'todo-{id}'\n",
    "\n",
    "@dataclass\n",
    "class TodoItem():\n",
    "    title: str; id: int = -1; done: bool = False\n",
    "\n",
    "    def __xt__(self):\n",
    "        show = AX(self.title, f'/todos/{self.id}', id_curr)\n",
    "        edit = AX('edit',     f'/edit/{self.id}' , id_curr)\n",
    "        dt = ' (done)' if self.done else ''\n",
    "        return Li(show, dt, ' | ', edit, id=tid(self.id))\n",
    "\n",
    "    _repr_html_ = showtags\n",
    "\n",
    "TODO_LIST = [TodoItem(id=0, title=\"Start writing todo list\", done=True),\n",
    "             TodoItem(id=1, title=\"???\", done=False),\n",
    "             TodoItem(id=2, title=\"Profit\", done=False)]"
   ]
  },
  {
   "cell_type": "code",
   "execution_count": 8,
   "id": "96541e48",
   "metadata": {},
   "outputs": [
    {
     "data": {
      "text/html": [
       "<code><pre>\n",
       "&lt;li id=&quot;todo-0&quot;&gt;\n",
       "  &lt;a href=&quot;#&quot; hx-get=&quot;/todos/0&quot; hx-target=&quot;#current-todo&quot;&gt;\n",
       "Start writing todo list\n",
       "  &lt;/a&gt;\n",
       " (done)\n",
       " | \n",
       "  &lt;a href=&quot;#&quot; hx-get=&quot;/edit/0&quot; hx-target=&quot;#current-todo&quot;&gt;\n",
       "edit\n",
       "  &lt;/a&gt;\n",
       "&lt;/li&gt;\n",
       "\n",
       "</code></pre>"
      ],
      "text/plain": [
       "TodoItem(title='Start writing todo list', id=0, done=True)"
      ]
     },
     "execution_count": 8,
     "metadata": {},
     "output_type": "execute_result"
    }
   ],
   "source": [
    "todo = TODO_LIST[0]\n",
    "todo"
   ]
  },
  {
   "cell_type": "code",
   "execution_count": 9,
   "id": "3035bd4c",
   "metadata": {},
   "outputs": [
    {
     "data": {
      "text/html": [
       "<li id=\"todo-0\">\n",
       "  <a href=\"#\" hx-get=\"/todos/0\" hx-target=\"#current-todo\">\n",
       "Start writing todo list\n",
       "  </a>\n",
       " (done)\n",
       " | \n",
       "  <a href=\"#\" hx-get=\"/edit/0\" hx-target=\"#current-todo\">\n",
       "edit\n",
       "  </a>\n",
       "</li>\n"
      ],
      "text/plain": [
       "<IPython.core.display.HTML object>"
      ]
     },
     "execution_count": 9,
     "metadata": {},
     "output_type": "execute_result"
    }
   ],
   "source": [
    "show(todo)"
   ]
  },
  {
   "cell_type": "code",
   "execution_count": 10,
   "id": "25d16330",
   "metadata": {},
   "outputs": [],
   "source": [
    "#| export\n",
    "def mk_input(**kw): return Input(name=\"title\", placeholder=\"New Todo\", **kw)"
   ]
  },
  {
   "cell_type": "code",
   "execution_count": 11,
   "id": "7ef79e4c",
   "metadata": {},
   "outputs": [
    {
     "data": {
      "text/html": [
       "<form hx-post=\"/\" hx-swap=\"beforeend\" hx-target=\"#todo-list\">\n",
       "  <fieldset role=\"group\">\n",
       "    <input name=\"title\" placeholder=\"New Todo\">\n",
       "    <button>\n",
       "Add\n",
       "    </button>\n",
       "  </fieldset>\n",
       "</form>\n"
      ],
      "text/plain": [
       "<IPython.core.display.HTML object>"
      ]
     },
     "execution_count": 11,
     "metadata": {},
     "output_type": "execute_result"
    }
   ],
   "source": [
    "inp = Group(mk_input(), Button(\"Add\"))\n",
    "add = Form(inp, hx_post=\"/\", target_id=id_list, hx_swap=\"beforeend\")\n",
    "show(add)"
   ]
  },
  {
   "cell_type": "code",
   "execution_count": 12,
   "id": "1aceba92",
   "metadata": {},
   "outputs": [],
   "source": [
    "#| export\n",
    "def get_card(todos):\n",
    "    inp = Group(mk_input(), Button(\"Add\"))\n",
    "    add = Form(inp, hx_post=\"/\", target_id=id_list, hx_swap=\"beforeend\")\n",
    "    return Card(Ul(*todos, id=id_list),\n",
    "                header=add, footer=Div(id=id_curr))"
   ]
  },
  {
   "cell_type": "code",
   "execution_count": 13,
   "id": "ecd57e96",
   "metadata": {},
   "outputs": [
    {
     "data": {
      "text/html": [
       "<article>\n",
       "  <header>\n",
       "    <form hx-post=\"/\" hx-swap=\"beforeend\" hx-target=\"#todo-list\">\n",
       "      <fieldset role=\"group\">\n",
       "        <input name=\"title\" placeholder=\"New Todo\">\n",
       "        <button>\n",
       "Add\n",
       "        </button>\n",
       "      </fieldset>\n",
       "    </form>\n",
       "  </header>\n",
       "  <ul id=\"todo-list\">\n",
       "    <li id=\"todo-0\">\n",
       "      <a href=\"#\" hx-get=\"/todos/0\" hx-target=\"#current-todo\">\n",
       "Start writing todo list\n",
       "      </a>\n",
       " (done)\n",
       " | \n",
       "      <a href=\"#\" hx-get=\"/edit/0\" hx-target=\"#current-todo\">\n",
       "edit\n",
       "      </a>\n",
       "    </li>\n",
       "    <li id=\"todo-1\">\n",
       "      <a href=\"#\" hx-get=\"/todos/1\" hx-target=\"#current-todo\">\n",
       "???\n",
       "      </a>\n",
       "\n",
       " | \n",
       "      <a href=\"#\" hx-get=\"/edit/1\" hx-target=\"#current-todo\">\n",
       "edit\n",
       "      </a>\n",
       "    </li>\n",
       "    <li id=\"todo-2\">\n",
       "      <a href=\"#\" hx-get=\"/todos/2\" hx-target=\"#current-todo\">\n",
       "Profit\n",
       "      </a>\n",
       "\n",
       " | \n",
       "      <a href=\"#\" hx-get=\"/edit/2\" hx-target=\"#current-todo\">\n",
       "edit\n",
       "      </a>\n",
       "    </li>\n",
       "  </ul>\n",
       "  <footer>\n",
       "    <div id=\"current-todo\"></div>\n",
       "  </footer>\n",
       "</article>\n"
      ],
      "text/plain": [
       "<IPython.core.display.HTML object>"
      ]
     },
     "execution_count": 13,
     "metadata": {},
     "output_type": "execute_result"
    }
   ],
   "source": [
    "show(get_card(TODO_LIST))"
   ]
  },
  {
   "cell_type": "code",
   "execution_count": 14,
   "id": "fbe84f82",
   "metadata": {},
   "outputs": [],
   "source": [
    "#| export\n",
    "def find_todo(id):\n",
    "    try: return next(o for o in TODO_LIST if o.id==id)\n",
    "    except: raise NotFoundException(f'Todo #{id}') from None"
   ]
  },
  {
   "cell_type": "code",
   "execution_count": 15,
   "id": "e9f922f5",
   "metadata": {},
   "outputs": [
    {
     "name": "stdout",
     "output_type": "stream",
     "text": [
      "TodoItem(title='Profit', id=2, done=False)\n"
     ]
    }
   ],
   "source": [
    "id = 2\n",
    "todo = find_todo(id)\n",
    "print(todo)"
   ]
  },
  {
   "cell_type": "code",
   "execution_count": 45,
   "id": "39fa9107",
   "metadata": {},
   "outputs": [],
   "source": [
    "#| export\n",
    "def get_editform(id):\n",
    "    todo = find_todo(id)\n",
    "    res = Form(Group(Input(id=\"title\"), Button(\"Save\")),\n",
    "        Hidden(id=\"id\"), Checkbox(id=\"done\", label='Done'),\n",
    "        hx_put=\"/\", target_id=tid(id), id=\"edit\")\n",
    "    fill_form(res, todo)\n",
    "    return res"
   ]
  },
  {
   "cell_type": "code",
   "execution_count": 46,
   "id": "f5c08ca9",
   "metadata": {},
   "outputs": [
    {
     "data": {
      "text/html": [
       "<form hx-put=\"/\" id=\"edit\" hx-target=\"#todo-2\" name=\"edit\">\n",
       "  <fieldset role=\"group\">\n",
       "    <input id=\"title\" name=\"title\" value=\"Profit\">\n",
       "    <button>\n",
       "Save\n",
       "    </button>\n",
       "  </fieldset>\n",
       "  <input type=\"hidden\" value=\"2\" id=\"id\" name=\"id\">\n",
       "  <label>\n",
       "    <input type=\"checkbox\" id=\"done\" name=\"done\">\n",
       "Done\n",
       "  </label>\n",
       "</form>\n"
      ],
      "text/plain": [
       "<IPython.core.display.HTML object>"
      ]
     },
     "execution_count": 46,
     "metadata": {},
     "output_type": "execute_result"
    }
   ],
   "source": [
    "edit = await edit_item(2)\n",
    "show(edit)"
   ]
  },
  {
   "cell_type": "code",
   "execution_count": 40,
   "id": "f6d33549",
   "metadata": {},
   "outputs": [
    {
     "data": {
      "text/plain": [
       "['Profit']"
      ]
     },
     "execution_count": 40,
     "metadata": {},
     "output_type": "execute_result"
    }
   ],
   "source": [
    "find_elems(edit, 'input', 'value', id='title')"
   ]
  },
  {
   "cell_type": "markdown",
   "id": "47563f59",
   "metadata": {},
   "source": [
    "## export -"
   ]
  },
  {
   "cell_type": "code",
   "execution_count": 14,
   "id": "957ff1b9",
   "metadata": {},
   "outputs": [],
   "source": [
    "from nbdev.export import nb_export\n",
    "nb_export('impl.ipynb', '.')"
   ]
  },
  {
   "cell_type": "code",
   "execution_count": null,
   "id": "177afbe8",
   "metadata": {},
   "outputs": [],
   "source": []
  }
 ],
 "metadata": {
  "kernelspec": {
   "display_name": "Python 3 (ipykernel)",
   "language": "python",
   "name": "python3"
  },
  "language_info": {
   "codemirror_mode": {
    "name": "ipython",
    "version": 3
   },
   "file_extension": ".py",
   "mimetype": "text/x-python",
   "name": "python",
   "nbconvert_exporter": "python",
   "pygments_lexer": "ipython3",
   "version": "3.11.8"
  }
 },
 "nbformat": 4,
 "nbformat_minor": 5
}
