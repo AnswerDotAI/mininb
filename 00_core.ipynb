{
 "cells": [
  {
   "cell_type": "code",
   "execution_count": null,
   "metadata": {},
   "outputs": [],
   "source": [
    "#| default_exp core"
   ]
  },
  {
   "cell_type": "markdown",
   "metadata": {},
   "source": [
    "# core\n",
    "\n",
    "> Fill in a module description here"
   ]
  },
  {
   "cell_type": "code",
   "execution_count": null,
   "metadata": {},
   "outputs": [],
   "source": [
    "from aimagic import *\n",
    "import re, types, xml.etree.ElementTree as ET\n",
    "from functools import partial"
   ]
  },
  {
   "cell_type": "code",
   "execution_count": null,
   "metadata": {},
   "outputs": [],
   "source": [
    "def strip_ansi_codes(text):\n",
    "    ansi_escape = re.compile(r'\\x1B(?:[@-Z\\\\-_]|\\[[0-?]*[ -/]*[@-~])')\n",
    "    return ansi_escape.sub('', text)"
   ]
  },
  {
   "cell_type": "code",
   "execution_count": null,
   "metadata": {},
   "outputs": [],
   "source": [
    "from toolslm import xml"
   ]
  },
  {
   "cell_type": "code",
   "execution_count": null,
   "metadata": {},
   "outputs": [],
   "source": [
    "m = create_magic(models[0])"
   ]
  },
  {
   "cell_type": "code",
   "execution_count": null,
   "metadata": {},
   "outputs": [],
   "source": [
    "def _attrmap(o):\n",
    "    o = o.lstrip('_').replace('_','-')\n",
    "    return dict(cls='class', klass='class', fr='for').get(o, o)\n",
    "\n",
    "def xt(tag:str, *c, **kw):\n",
    "    if len(c)==1 and isinstance(c[0], types.GeneratorType): c = tuple(c[0])\n",
    "    elif len(c)==1 and isinstance(c[0],str): c = c[0]\n",
    "    kw = {_attrmap(k):str(v) for k,v in kw.items()}\n",
    "    return [tag.lower(),c,kw]\n",
    "\n",
    "g = globals()\n",
    "tags = '''html head title meta link style body pre code div span p h1 h2 h3 h4 h5 h6 strong em b i u s\n",
    "strike sub sup hr br img a link nav ul ol li dl dt dd table thead tbody tfoot tr th td caption\n",
    "col colgroup form input textarea button select option label fieldset legend details summary main\n",
    "header footer section article aside figure figcaption mark small iframe object embed param video\n",
    "audio source canvas svg math script noscript template slot'''.split()\n",
    "for o in tags: g[o.capitalize()] = partial(xt, o)\n",
    "\n",
    "def to_xml(node:tuple, hl=False):\n",
    "    \"Convert `node` to an XML string.\"\n",
    "    def mk_el(tag, cs, attrs):\n",
    "        el = ET.Element(tag, attrib=attrs)\n",
    "        if isinstance(cs, tuple): el.extend([mk_el(*o) for o in cs])\n",
    "        elif cs is not None: el.text = str(cs)\n",
    "        return el\n",
    "\n",
    "    root = mk_el(*node)\n",
    "    ET.indent(root, space='  ' if hl else '')\n",
    "    res = ET.tostring(root, encoding='unicode', short_empty_elements=False)\n",
    "    return hl_md(res) if hl else res"
   ]
  },
  {
   "cell_type": "code",
   "execution_count": null,
   "metadata": {},
   "outputs": [],
   "source": [
    "# to_xml(Body(H1('hi'), P('foo')), True)"
   ]
  },
  {
   "cell_type": "code",
   "execution_count": null,
   "metadata": {},
   "outputs": [],
   "source": [
    "%ai reset"
   ]
  },
  {
   "cell_type": "code",
   "execution_count": null,
   "metadata": {},
   "outputs": [],
   "source": [
    "from execnb import nbio\n",
    "import json, os\n",
    "from fastcore.utils import *"
   ]
  },
  {
   "cell_type": "code",
   "execution_count": null,
   "metadata": {},
   "outputs": [],
   "source": [
    "%%aio 0\n",
    "Tell me a detailed step by step plan to open a Jupyter Notebook with execnb, and create a rendered HTML version of it, without using nbformat or anything similar -- instead doing it by hand from scratch."
   ]
  },
  {
   "cell_type": "markdown",
   "metadata": {},
   "source": [
    "-  Load the notebook JSON data from a file: `nb_data = json.load(open('notebook.ipynb'))`\n",
    "-  Initialize an empty list to store the HTML output: `html_output = []`\n",
    "-  Create a basic HTML page, including a javascript import of a markdown rendering library\n",
    "-  Iterate through each cell in the notebook data:\n",
    "    -  If the cell is a code cell, convert to an HTML representation (we will assume the outputs are already saved in the notebook)\n",
    "    -  If the cell is a markdown cell, output it in a format the js md library can render\n",
    "-  Combine the HTML output from each cell into a single string\n",
    "-  Write the HTML string to a file: `with open('notebook.html', 'w') as f: f.write(html_output)`"
   ]
  },
  {
   "cell_type": "code",
   "execution_count": null,
   "metadata": {},
   "outputs": [],
   "source": [
    "%%aip 0\n",
    "Do the 1st 2 steps."
   ]
  },
  {
   "cell_type": "code",
   "execution_count": null,
   "metadata": {},
   "outputs": [],
   "source": [
    "fname = Path.home()/'git/nbdev/tests/minimal.ipynb'\n",
    "nb = nbio.read_nb(fname)"
   ]
  },
  {
   "cell_type": "code",
   "execution_count": null,
   "metadata": {},
   "outputs": [
    {
     "data": {
      "text/markdown": [
       "```json\n",
       "{ 'cells': [ { 'cell_type': 'markdown',\n",
       "               'idx_': 0,\n",
       "               'metadata': {},\n",
       "               'source': '## A minimal notebook'},\n",
       "             { 'cell_type': 'code',\n",
       "               'execution_count': None,\n",
       "               'idx_': 1,\n",
       "               'metadata': {},\n",
       "               'outputs': [ { 'data': {'text/plain': ['2']},\n",
       "                              'execution_count': None,\n",
       "                              'metadata': {},\n",
       "                              'output_type': 'execute_result'}],\n",
       "               'source': '# Do some arithmetic\\n1+1'}],\n",
       "  'metadata': { 'kernelspec': { 'display_name': 'Python 3 (ipykernel)',\n",
       "                                'language': 'python',\n",
       "                                'name': 'python3'}},\n",
       "  'nbformat': 4,\n",
       "  'nbformat_minor': 4,\n",
       "  'path_': '/Users/jhoward/git/nbdev/tests/minimal.ipynb'}\n",
       "```"
      ],
      "text/plain": [
       "{'cells': [{'cell_type': 'markdown',\n",
       "   'metadata': {},\n",
       "   'source': '## A minimal notebook',\n",
       "   'idx_': 0},\n",
       "  {'cell_type': 'code',\n",
       "   'execution_count': None,\n",
       "   'metadata': {},\n",
       "   'outputs': [{'data': {'text/plain': ['2']},\n",
       "     'execution_count': None,\n",
       "     'metadata': {},\n",
       "     'output_type': 'execute_result'}],\n",
       "   'source': '# Do some arithmetic\\n1+1',\n",
       "   'idx_': 1}],\n",
       " 'metadata': {'kernelspec': {'display_name': 'Python 3 (ipykernel)',\n",
       "   'language': 'python',\n",
       "   'name': 'python3'}},\n",
       " 'nbformat': 4,\n",
       " 'nbformat_minor': 4,\n",
       " 'path_': '/Users/jhoward/git/nbdev/tests/minimal.ipynb'}"
      ]
     },
     "execution_count": null,
     "metadata": {},
     "output_type": "execute_result"
    }
   ],
   "source": [
    "nb"
   ]
  },
  {
   "cell_type": "code",
   "execution_count": null,
   "metadata": {},
   "outputs": [],
   "source": [
    "%%ai 0\n",
    "Great. Show me the script to auto-render cells with a certain class using `marked`. If my app creates cells of that class, I want them auto-formatted."
   ]
  },
  {
   "cell_type": "markdown",
   "metadata": {},
   "source": [
    "Place a script block with this at the end of your page:\n",
    "\n",
    "```js\n",
    "  const contentDiv = document.getElementById('content');\n",
    "  const renderMarkdown = (block) => { block.innerHTML = marked.parse(block.innerHTML) };\n",
    "  const observer = new MutationObserver((mutations) => {\n",
    "    mutations.forEach((mutation) => {\n",
    "      if (mutation.type === 'childList') {\n",
    "        mutation.addedNodes.forEach((node) => {\n",
    "          if (node.nodeType === Node.ELEMENT_NODE && node.classList.contains('markdown'))\n",
    "          renderMarkdown(node);\n",
    "        });\n",
    "      }\n",
    "    });\n",
    "  });\n",
    "  observer.observe(contentDiv, { childList: true, subtree: true });\n",
    "  contentDiv.querySelectorAll('.markdown').forEach(renderMarkdown);\n",
    "```"
   ]
  },
  {
   "cell_type": "code",
   "execution_count": null,
   "metadata": {},
   "outputs": [],
   "source": [
    "%%ai 0\n",
    "I've written a simple HTML generation library -- here's a sample; can you see the basic idea of how to use it?\n",
    "\n",
    "```python\n",
    "async def get_list(done: bool|None = None) -> str:\n",
    "    todos = TODO_LIST if done is None else [\n",
    "        item for item in TODO_LIST if item.done == done]\n",
    "    tlist = Ul(Li(item.tag()) for item in todos)\n",
    "    elems = [H1('TODO list'), tlist, Div(id='current-todo')]\n",
    "    htmxscr = Script(src=\"https://unpkg.com/htmx.org@1.9.12\",\n",
    "                     crossorigin=\"anonymous\")\n",
    "    head = [Title('TODO list'), htmxscr]\n",
    "    res = Html(Head(*head), Body(*elems))\n",
    "    return to_xml(res)\n",
    "```"
   ]
  },
  {
   "cell_type": "markdown",
   "metadata": {},
   "source": [
    "Yes, I can see the basic idea of how to use your HTML generation library. Here's a breakdown:\n",
    "\n",
    "- You have defined functions that represent the usual HTML elements, like `Ul`, `Li`, `Div`, `Script`, `Head`, `Body`, and `Html`\n",
    "- These functions take the element's content as positional arguments, which can be strings or other elements\n",
    "- Attributes can be specified as keyword arguments, like `Div(id='current-todo')`\n",
    "- The `Html` element represents the entire document, taking the `Head` and `Body` as arguments\n",
    "- The `to_xml` function to renders the HTML element tree into an HTML string."
   ]
  },
  {
   "cell_type": "code",
   "execution_count": null,
   "metadata": {},
   "outputs": [
    {
     "data": {
      "text/markdown": [
       "```json\n",
       "{ 'cell_type': 'code',\n",
       "  'execution_count': None,\n",
       "  'idx_': 1,\n",
       "  'metadata': {},\n",
       "  'outputs': [ { 'data': {'text/plain': ['2']},\n",
       "                 'execution_count': None,\n",
       "                 'metadata': {},\n",
       "                 'output_type': 'execute_result'}],\n",
       "  'source': '# Do some arithmetic\\n1+1'}\n",
       "```"
      ],
      "text/plain": [
       "{'cell_type': 'code',\n",
       " 'execution_count': None,\n",
       " 'metadata': {},\n",
       " 'outputs': [{'data': {'text/plain': ['2']},\n",
       "   'execution_count': None,\n",
       "   'metadata': {},\n",
       "   'output_type': 'execute_result'}],\n",
       " 'source': '# Do some arithmetic\\n1+1',\n",
       " 'idx_': 1}"
      ]
     },
     "execution_count": null,
     "metadata": {},
     "output_type": "execute_result"
    }
   ],
   "source": [
    "cell = nb.cells[1]\n",
    "cell"
   ]
  },
  {
   "cell_type": "code",
   "execution_count": null,
   "metadata": {},
   "outputs": [],
   "source": [
    "%%aip 0\n",
    "Use that to write a python function that converts a code cell (such as the one in `nb` above) into a sensible HTML representation, such as a div with class `cell` containing `input` and `output` divs.\n",
    "\n",
    "Create a div for each output, give each div the same class as the output type, and for `execute_result` type outputs show markdown (with appropriate class) if it exists, or text/plain (in Pre) otherwise."
   ]
  },
  {
   "cell_type": "code",
   "execution_count": null,
   "metadata": {},
   "outputs": [],
   "source": [
    "def _out_pre(o): return Pre(strip_ansi_codes('\\n'.join(o)).strip())\n",
    "\n",
    "def out_data(o):\n",
    "    if o['output_type'] in ('execute_result', 'display_data'):\n",
    "        if 'text/markdown' in o['data']:\n",
    "            return Div('\\n'.join(o['data']['text/markdown']), _class='markdown')\n",
    "        return _out_pre(o['data']['text/plain'])\n",
    "    return _out_pre(o['text'])\n",
    "\n",
    "def cell_code(cell):\n",
    "    return Div(\n",
    "        Pre(Code(cell.source, _class=\"language-python\"), _class='input'),\n",
    "        *[Div(out_data(o), _class=o['output_type'] + \" output\") for o in cell.outputs],\n",
    "        _class='cell cell-code'\n",
    "    )"
   ]
  },
  {
   "cell_type": "code",
   "execution_count": null,
   "metadata": {},
   "outputs": [
    {
     "data": {
      "text/markdown": [
       "```xml\n",
       "<div class=\"cell cell-code\">\n",
       "  <pre class=\"input\">\n",
       "    <code class=\"language-python\"># Do some arithmetic\n",
       "1+1</code>\n",
       "  </pre>\n",
       "  <div class=\"execute_result output\">\n",
       "    <pre>2</pre>\n",
       "  </div>\n",
       "</div>\n",
       "```"
      ],
      "text/plain": [
       "<IPython.core.display.Markdown object>"
      ]
     },
     "execution_count": null,
     "metadata": {},
     "output_type": "execute_result"
    }
   ],
   "source": [
    "to_xml(cell_code(cell), True)"
   ]
  },
  {
   "cell_type": "code",
   "execution_count": null,
   "metadata": {},
   "outputs": [
    {
     "data": {
      "text/markdown": [
       "```json\n",
       "{ 'cell_type': 'markdown',\n",
       "  'idx_': 0,\n",
       "  'metadata': {},\n",
       "  'source': '## A minimal notebook'}\n",
       "```"
      ],
      "text/plain": [
       "{'cell_type': 'markdown',\n",
       " 'metadata': {},\n",
       " 'source': '## A minimal notebook',\n",
       " 'idx_': 0}"
      ]
     },
     "execution_count": null,
     "metadata": {},
     "output_type": "execute_result"
    }
   ],
   "source": [
    "cell = nb.cells[0]\n",
    "cell"
   ]
  },
  {
   "cell_type": "code",
   "execution_count": null,
   "metadata": {},
   "outputs": [],
   "source": [
    "%%aip 0\n",
    "Write `cell_md` now that outputs a div with the 'markdown' class, using the above example input."
   ]
  },
  {
   "cell_type": "code",
   "execution_count": null,
   "metadata": {},
   "outputs": [],
   "source": [
    "def cell_md(cell): return Div(cell.source, _class='cell cell-md markdown')"
   ]
  },
  {
   "cell_type": "code",
   "execution_count": null,
   "metadata": {},
   "outputs": [
    {
     "data": {
      "text/markdown": [
       "```xml\n",
       "<div class=\"cell cell-md markdown\">## A minimal notebook</div>\n",
       "```"
      ],
      "text/plain": [
       "<IPython.core.display.Markdown object>"
      ]
     },
     "execution_count": null,
     "metadata": {},
     "output_type": "execute_result"
    }
   ],
   "source": [
    "to_xml(cell_md(cell), True)"
   ]
  },
  {
   "cell_type": "code",
   "execution_count": null,
   "metadata": {},
   "outputs": [],
   "source": [
    "%%aip 0\n",
    "Great. Put it altogether now, taking `nb` as input, and generating a complete HTML page. Don't worry about including the markdown script we discussed -- I'll copy that in myself."
   ]
  },
  {
   "cell_type": "code",
   "execution_count": null,
   "metadata": {},
   "outputs": [
    {
     "data": {
      "text/markdown": [
       "```json\n",
       "{ 'cells': [ { 'cell_type': 'markdown',\n",
       "               'idx_': 0,\n",
       "               'metadata': {},\n",
       "               'source': '## A minimal notebook'},\n",
       "             { 'cell_type': 'code',\n",
       "               'execution_count': None,\n",
       "               'idx_': 1,\n",
       "               'metadata': {},\n",
       "               'outputs': [ { 'data': {'text/plain': ['2']},\n",
       "                              'execution_count': None,\n",
       "                              'metadata': {},\n",
       "                              'output_type': 'execute_result'}],\n",
       "               'source': '# Do some arithmetic\\n1+1'}],\n",
       "  'metadata': { 'kernelspec': { 'display_name': 'Python 3 (ipykernel)',\n",
       "                                'language': 'python',\n",
       "                                'name': 'python3'}},\n",
       "  'nbformat': 4,\n",
       "  'nbformat_minor': 4,\n",
       "  'path_': '/Users/jhoward/git/nbdev/tests/minimal.ipynb'}\n",
       "```"
      ],
      "text/plain": [
       "{'cells': [{'cell_type': 'markdown',\n",
       "   'metadata': {},\n",
       "   'source': '## A minimal notebook',\n",
       "   'idx_': 0},\n",
       "  {'cell_type': 'code',\n",
       "   'execution_count': None,\n",
       "   'metadata': {},\n",
       "   'outputs': [{'data': {'text/plain': ['2']},\n",
       "     'execution_count': None,\n",
       "     'metadata': {},\n",
       "     'output_type': 'execute_result'}],\n",
       "   'source': '# Do some arithmetic\\n1+1',\n",
       "   'idx_': 1}],\n",
       " 'metadata': {'kernelspec': {'display_name': 'Python 3 (ipykernel)',\n",
       "   'language': 'python',\n",
       "   'name': 'python3'}},\n",
       " 'nbformat': 4,\n",
       " 'nbformat_minor': 4,\n",
       " 'path_': '/Users/jhoward/git/nbdev/tests/minimal.ipynb'}"
      ]
     },
     "execution_count": null,
     "metadata": {},
     "output_type": "execute_result"
    }
   ],
   "source": [
    "nb"
   ]
  },
  {
   "cell_type": "code",
   "execution_count": null,
   "metadata": {},
   "outputs": [],
   "source": [
    "def nb_html(nb, nm='Notebook'):\n",
    "    head = [Title(nb.get('name', nm))]\n",
    "    body = [(cell_code,cell_md)[cell.cell_type=='markdown'](cell)\n",
    "            for cell in nb.cells if cell.cell_type in ('markdown','code')]\n",
    "    return Html(Head(*head), Body(*body))"
   ]
  },
  {
   "cell_type": "code",
   "execution_count": null,
   "metadata": {},
   "outputs": [
    {
     "data": {
      "text/markdown": [
       "```xml\n",
       "<html>\n",
       "  <head>\n",
       "    <title>Notebook</title>\n",
       "  </head>\n",
       "  <body>\n",
       "    <div class=\"cell cell-md markdown\">## A minimal notebook</div>\n",
       "    <div class=\"cell cell-code\">\n",
       "      <pre class=\"input\">\n",
       "        <code class=\"language-python\"># Do some arithmetic\n",
       "1+1</code>\n",
       "      </pre>\n",
       "      <div class=\"execute_result output\">\n",
       "        <pre>2</pre>\n",
       "      </div>\n",
       "    </div>\n",
       "  </body>\n",
       "</html>\n",
       "```"
      ],
      "text/plain": [
       "<IPython.core.display.Markdown object>"
      ]
     },
     "execution_count": null,
     "metadata": {},
     "output_type": "execute_result"
    }
   ],
   "source": [
    "to_xml(nb_html(nb), True)"
   ]
  },
  {
   "cell_type": "code",
   "execution_count": null,
   "metadata": {},
   "outputs": [],
   "source": [
    "fname = Path.home()/'git/nbdev/tests/docs_test.ipynb'\n",
    "nb = nbio.read_nb(fname)"
   ]
  },
  {
   "cell_type": "code",
   "execution_count": null,
   "metadata": {},
   "outputs": [],
   "source": [
    "# to_xml(nb_html(nb), True)"
   ]
  },
  {
   "cell_type": "markdown",
   "metadata": {},
   "source": [
    "### TODO"
   ]
  },
  {
   "cell_type": "markdown",
   "metadata": {},
   "source": [
    "- Display piccies"
   ]
  },
  {
   "cell_type": "markdown",
   "metadata": {},
   "source": [
    "## export -"
   ]
  },
  {
   "cell_type": "code",
   "execution_count": null,
   "metadata": {},
   "outputs": [],
   "source": [
    "#| hide\n",
    "import nbdev; nbdev.nbdev_export()"
   ]
  },
  {
   "cell_type": "code",
   "execution_count": null,
   "metadata": {},
   "outputs": [],
   "source": []
  }
 ],
 "metadata": {
  "kernelspec": {
   "display_name": "python3",
   "language": "python",
   "name": "python3"
  }
 },
 "nbformat": 4,
 "nbformat_minor": 4
}
