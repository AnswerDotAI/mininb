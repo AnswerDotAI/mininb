{
 "cells": [
  {
   "cell_type": "code",
   "execution_count": null,
   "metadata": {},
   "outputs": [],
   "source": [
    "#| default_exp core"
   ]
  },
  {
   "cell_type": "markdown",
   "metadata": {},
   "source": [
    "# core\n",
    "\n",
    "> Fill in a module description here"
   ]
  },
  {
   "cell_type": "code",
   "execution_count": null,
   "metadata": {},
   "outputs": [],
   "source": [
    "from aimagic import *\n",
    "import re, types, xml.etree.ElementTree as ET\n",
    "from functools import partial\n",
    "from ansi2html import Ansi2HTMLConverter"
   ]
  },
  {
   "cell_type": "code",
   "execution_count": null,
   "metadata": {},
   "outputs": [],
   "source": [
    "def strip_ansi_codes(text):\n",
    "    ansi_escape = re.compile(r'\\x1B(?:[@-Z\\\\-_]|\\[[0-?]*[ -/]*[@-~])')\n",
    "    return ansi_escape.sub('', text)"
   ]
  },
  {
   "cell_type": "code",
   "execution_count": null,
   "metadata": {},
   "outputs": [],
   "source": [
    "m = create_magic(models[0])"
   ]
  },
  {
   "cell_type": "code",
   "execution_count": null,
   "metadata": {},
   "outputs": [],
   "source": [
    "%ai reset"
   ]
  },
  {
   "cell_type": "code",
   "execution_count": null,
   "metadata": {},
   "outputs": [],
   "source": [
    "from execnb import nbio\n",
    "import json, os\n",
    "from IPython import display\n",
    "from fastcore.utils import *\n",
    "from fastcore.xml import *"
   ]
  },
  {
   "cell_type": "code",
   "execution_count": null,
   "metadata": {},
   "outputs": [],
   "source": [
    "%%aio 0\n",
    "Tell me a detailed step by step plan to open a Jupyter Notebook with execnb, and create a rendered HTML version of it, without using nbformat or anything similar -- instead doing it by hand from scratch."
   ]
  },
  {
   "cell_type": "markdown",
   "metadata": {},
   "source": [
    "-  Load the notebook JSON data from a file: `nb_data = json.load(open('notebook.ipynb'))`\n",
    "-  Initialize an empty list to store the HTML output: `html_output = []`\n",
    "-  Create a basic HTML page, including a javascript import of a markdown rendering library\n",
    "-  Iterate through each cell in the notebook data:\n",
    "    -  If the cell is a code cell, convert to an HTML representation (we will assume the outputs are already saved in the notebook)\n",
    "    -  If the cell is a markdown cell, output it in a format the js md library can render\n",
    "-  Combine the HTML output from each cell into a single string\n",
    "-  Write the HTML string to a file: `with open('notebook.html', 'w') as f: f.write(html_output)`"
   ]
  },
  {
   "cell_type": "code",
   "execution_count": null,
   "metadata": {},
   "outputs": [],
   "source": [
    "%%aip 0\n",
    "Do the 1st 2 steps."
   ]
  },
  {
   "cell_type": "code",
   "execution_count": null,
   "metadata": {},
   "outputs": [],
   "source": [
    "fname = Path.home()/'git/nbdev/tests/minimal.ipynb'\n",
    "nb = nbio.read_nb(fname)"
   ]
  },
  {
   "cell_type": "code",
   "execution_count": null,
   "metadata": {},
   "outputs": [
    {
     "data": {
      "text/markdown": [
       "```json\n",
       "{ 'cells': [ { 'cell_type': 'markdown',\n",
       "               'idx_': 0,\n",
       "               'metadata': {},\n",
       "               'source': '## A minimal notebook'},\n",
       "             { 'cell_type': 'code',\n",
       "               'execution_count': None,\n",
       "               'idx_': 1,\n",
       "               'metadata': {},\n",
       "               'outputs': [ { 'data': {'text/plain': ['2']},\n",
       "                              'execution_count': None,\n",
       "                              'metadata': {},\n",
       "                              'output_type': 'execute_result'}],\n",
       "               'source': '# Do some arithmetic\\n1+1'}],\n",
       "  'metadata': { 'kernelspec': { 'display_name': 'Python 3 (ipykernel)',\n",
       "                                'language': 'python',\n",
       "                                'name': 'python3'}},\n",
       "  'nbformat': 4,\n",
       "  'nbformat_minor': 4,\n",
       "  'path_': '/Users/jhoward/git/nbdev/tests/minimal.ipynb'}\n",
       "```"
      ],
      "text/plain": [
       "{'cells': [{'cell_type': 'markdown',\n",
       "   'metadata': {},\n",
       "   'source': '## A minimal notebook',\n",
       "   'idx_': 0},\n",
       "  {'cell_type': 'code',\n",
       "   'execution_count': None,\n",
       "   'metadata': {},\n",
       "   'outputs': [{'data': {'text/plain': ['2']},\n",
       "     'execution_count': None,\n",
       "     'metadata': {},\n",
       "     'output_type': 'execute_result'}],\n",
       "   'source': '# Do some arithmetic\\n1+1',\n",
       "   'idx_': 1}],\n",
       " 'metadata': {'kernelspec': {'display_name': 'Python 3 (ipykernel)',\n",
       "   'language': 'python',\n",
       "   'name': 'python3'}},\n",
       " 'nbformat': 4,\n",
       " 'nbformat_minor': 4,\n",
       " 'path_': '/Users/jhoward/git/nbdev/tests/minimal.ipynb'}"
      ]
     },
     "execution_count": null,
     "metadata": {},
     "output_type": "execute_result"
    }
   ],
   "source": [
    "nb"
   ]
  },
  {
   "cell_type": "code",
   "execution_count": null,
   "metadata": {},
   "outputs": [],
   "source": [
    "%%ai 0\n",
    "Great. Show me the script to auto-render cells with a certain class using `marked`. If my app creates cells of that class, I want them auto-formatted."
   ]
  },
  {
   "cell_type": "markdown",
   "metadata": {},
   "source": [
    "Place a script block with this at the end of your page:\n",
    "\n",
    "```js\n",
    "  const contentDiv = document.getElementById('content');\n",
    "  const renderMarkdown = (block) => { block.innerHTML = marked.parse(block.innerHTML) };\n",
    "  const observer = new MutationObserver((mutations) => {\n",
    "    mutations.forEach((mutation) => {\n",
    "      if (mutation.type === 'childList') {\n",
    "        mutation.addedNodes.forEach((node) => {\n",
    "          if (node.nodeType === Node.ELEMENT_NODE && node.classList.contains('markdown'))\n",
    "          renderMarkdown(node);\n",
    "        });\n",
    "      }\n",
    "    });\n",
    "  });\n",
    "  observer.observe(contentDiv, { childList: true, subtree: true });\n",
    "  contentDiv.querySelectorAll('.markdown').forEach(renderMarkdown);\n",
    "```"
   ]
  },
  {
   "cell_type": "code",
   "execution_count": null,
   "metadata": {},
   "outputs": [],
   "source": [
    "%%ai 0\n",
    "I've written a simple HTML generation library -- here's a sample; can you see the basic idea of how to use it?\n",
    "\n",
    "```python\n",
    "async def get_list(done: bool|None = None) -> str:\n",
    "    todos = TODO_LIST if done is None else [\n",
    "        item for item in TODO_LIST if item.done == done]\n",
    "    tlist = Ul(Li(item.tag()) for item in todos)\n",
    "    elems = [H1('TODO list'), tlist, Div(id='current-todo')]\n",
    "    htmxscr = Script(src=\"https://unpkg.com/htmx.org@1.9.12\",\n",
    "                     crossorigin=\"anonymous\")\n",
    "    head = [Title('TODO list'), htmxscr]\n",
    "    res = Html(Head(*head), Body(*elems))\n",
    "    return to_xml(res)\n",
    "```"
   ]
  },
  {
   "cell_type": "markdown",
   "metadata": {},
   "source": [
    "Yes, I can see the basic idea of how to use your HTML generation library. Here's a breakdown:\n",
    "\n",
    "- You have defined functions that represent the usual HTML elements, like `Ul`, `Li`, `Div`, `Script`, `Head`, `Body`, and `Html`\n",
    "- These functions take the element's content as positional arguments, which can be strings or other elements\n",
    "- Attributes can be specified as keyword arguments, like `Div(id='current-todo')`\n",
    "- The `Html` element represents the entire document, taking the `Head` and `Body` as arguments\n",
    "- The `to_xml` function to renders the HTML element tree into an HTML string."
   ]
  },
  {
   "cell_type": "code",
   "execution_count": null,
   "metadata": {},
   "outputs": [
    {
     "data": {
      "text/markdown": [
       "```json\n",
       "{ 'cell_type': 'code',\n",
       "  'execution_count': None,\n",
       "  'idx_': 1,\n",
       "  'metadata': {},\n",
       "  'outputs': [ { 'data': {'text/plain': ['2']},\n",
       "                 'execution_count': None,\n",
       "                 'metadata': {},\n",
       "                 'output_type': 'execute_result'}],\n",
       "  'source': '# Do some arithmetic\\n1+1'}\n",
       "```"
      ],
      "text/plain": [
       "{'cell_type': 'code',\n",
       " 'execution_count': None,\n",
       " 'metadata': {},\n",
       " 'outputs': [{'data': {'text/plain': ['2']},\n",
       "   'execution_count': None,\n",
       "   'metadata': {},\n",
       "   'output_type': 'execute_result'}],\n",
       " 'source': '# Do some arithmetic\\n1+1',\n",
       " 'idx_': 1}"
      ]
     },
     "execution_count": null,
     "metadata": {},
     "output_type": "execute_result"
    }
   ],
   "source": [
    "cell = nb.cells[1]\n",
    "cell"
   ]
  },
  {
   "cell_type": "code",
   "execution_count": null,
   "metadata": {},
   "outputs": [],
   "source": [
    "%%aip 0\n",
    "Use that to write a python function that converts a code cell (such as the one in `nb` above) into a sensible HTML representation, such as a div with class `cell` containing `input` and `output` divs.\n",
    "\n",
    "Create a div for each output, give each div the same class as the output type, and for `execute_result` type outputs show markdown (with appropriate class) if it exists, or text/plain (in Pre) otherwise."
   ]
  },
  {
   "cell_type": "code",
   "execution_count": null,
   "metadata": {},
   "outputs": [],
   "source": [
    "def _out_pre(o): return Pre(strip_ansi_codes('\\n'.join(o)).strip())\n",
    "\n",
    "def out_data(o):\n",
    "    if o['output_type'] in ('execute_result', 'display_data'):\n",
    "        dat = o['data']\n",
    "        if 'text/html' in dat:\n",
    "            return Div(NotStr('\\n'.join(dat['text/html'])), _class='raw')\n",
    "        if 'text/markdown' in dat:\n",
    "            return Div('\\n'.join(dat['text/markdown']), _class='markdown')\n",
    "        return _out_pre(dat['text/plain'])\n",
    "    return _out_pre(o['text'])\n",
    "\n",
    "def cell_code(cell):\n",
    "    return Div(\n",
    "        Pre(Code(cell.source, _class=\"language-python\"), _class='input'),\n",
    "        *[Div(out_data(o), _class=o['output_type'] + \" output\") for o in cell.outputs],\n",
    "        _class='cell cell-code'\n",
    "    )"
   ]
  },
  {
   "cell_type": "code",
   "execution_count": null,
   "metadata": {},
   "outputs": [
    {
     "name": "stdout",
     "output_type": "stream",
     "text": [
      "<div class=\"cell cell-code\">\n",
      "  <pre class=\"input\">\n",
      "    <code class=\"language-python\">\n",
      "# Do some arithmetic\n",
      "1+1\n",
      "    </code>\n",
      "  </pre>\n",
      "  <div class=\"execute_result output\">\n",
      "    <pre>\n",
      "2\n",
      "    </pre>\n",
      "  </div>\n",
      "</div>\n",
      "\n"
     ]
    }
   ],
   "source": [
    "print(to_xml(cell_code(cell)))"
   ]
  },
  {
   "cell_type": "code",
   "execution_count": null,
   "metadata": {},
   "outputs": [
    {
     "data": {
      "text/markdown": [
       "```json\n",
       "{ 'cell_type': 'markdown',\n",
       "  'idx_': 0,\n",
       "  'metadata': {},\n",
       "  'source': '## A minimal notebook'}\n",
       "```"
      ],
      "text/plain": [
       "{'cell_type': 'markdown',\n",
       " 'metadata': {},\n",
       " 'source': '## A minimal notebook',\n",
       " 'idx_': 0}"
      ]
     },
     "execution_count": null,
     "metadata": {},
     "output_type": "execute_result"
    }
   ],
   "source": [
    "cell = nb.cells[0]\n",
    "cell"
   ]
  },
  {
   "cell_type": "code",
   "execution_count": null,
   "metadata": {},
   "outputs": [],
   "source": [
    "%%aip 0\n",
    "Write `cell_md` now that outputs a div with the 'markdown' class, using the above example input."
   ]
  },
  {
   "cell_type": "code",
   "execution_count": null,
   "metadata": {},
   "outputs": [],
   "source": [
    "def cell_md(cell): return Div(cell.source, _class='cell cell-md markdown')"
   ]
  },
  {
   "cell_type": "code",
   "execution_count": null,
   "metadata": {},
   "outputs": [
    {
     "name": "stdout",
     "output_type": "stream",
     "text": [
      "<div class=\"cell cell-md markdown\">\n",
      "## A minimal notebook\n",
      "</div>\n",
      "\n"
     ]
    }
   ],
   "source": [
    "print(to_xml(cell_md(cell)))"
   ]
  },
  {
   "cell_type": "code",
   "execution_count": null,
   "metadata": {},
   "outputs": [],
   "source": [
    "%%aip 0\n",
    "Great. Put it altogether now, taking `nb` as input, and generating a complete HTML page. Don't worry about including the markdown script we discussed -- I'll copy that in myself."
   ]
  },
  {
   "cell_type": "code",
   "execution_count": null,
   "metadata": {},
   "outputs": [],
   "source": [
    "def nb_html(nb, nm='Notebook'):\n",
    "    head = [Title(nb.get('name', nm))]\n",
    "    body = [(cell_code,cell_md)[cell.cell_type=='markdown'](cell)\n",
    "            for cell in nb.cells if cell.cell_type in ('markdown','code')]\n",
    "    return Html(Head(*head), Body(*body))"
   ]
  },
  {
   "cell_type": "code",
   "execution_count": null,
   "metadata": {},
   "outputs": [
    {
     "name": "stdout",
     "output_type": "stream",
     "text": [
      "<html>\n",
      "  <head>\n",
      "    <title>\n",
      "Notebook\n",
      "    </title>\n",
      "  </head>\n",
      "  <body>\n",
      "    <div class=\"cell cell-md markdown\">\n",
      "## A minimal notebook\n",
      "    </div>\n",
      "    <div class=\"cell cell-code\">\n",
      "      <pre class=\"input\">\n",
      "        <code class=\"language-python\">\n",
      "# Do some arithmetic\n",
      "1+1\n",
      "        </code>\n",
      "      </pre>\n",
      "      <div class=\"execute_result output\">\n",
      "        <pre>\n",
      "2\n",
      "        </pre>\n",
      "      </div>\n",
      "    </div>\n",
      "  </body>\n",
      "</html>\n",
      "\n"
     ]
    }
   ],
   "source": [
    "print(to_xml(nb_html(nb)))"
   ]
  },
  {
   "cell_type": "code",
   "execution_count": null,
   "metadata": {},
   "outputs": [
    {
     "data": {
      "text/markdown": [
       "```json\n",
       "{ 'cell_type': 'code',\n",
       "  'execution_count': None,\n",
       "  'id': '933fef8f',\n",
       "  'idx_': 11,\n",
       "  'metadata': {},\n",
       "  'outputs': [ { 'data': { 'image/png': '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',\n",
       "                           'text/plain': ['<Figure size 144x72 with 1 Axes>']},\n",
       "                 'metadata': {'needs_background': 'light'},\n",
       "                 'output_type': 'display_data'}],\n",
       "  'source': '#|notest\\nplt.figure(figsize=(2,1))\\nplt.plot([1,2]);'}\n",
       "```"
      ],
      "text/plain": [
       "{'cell_type': 'code',\n",
       " 'execution_count': None,\n",
       " 'id': '933fef8f',\n",
       " 'metadata': {},\n",
       " 'outputs': [{'data': {'image/png': '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',\n",
       "    'text/plain': ['<Figure size 144x72 with 1 Axes>']},\n",
       "   'metadata': {'needs_background': 'light'},\n",
       "   'output_type': 'display_data'}],\n",
       " 'source': '#|notest\\nplt.figure(figsize=(2,1))\\nplt.plot([1,2]);',\n",
       " 'idx_': 11}"
      ]
     },
     "execution_count": null,
     "metadata": {},
     "output_type": "execute_result"
    }
   ],
   "source": [
    "nb.cells[11]"
   ]
  },
  {
   "cell_type": "code",
   "execution_count": null,
   "metadata": {},
   "outputs": [
    {
     "name": "stdout",
     "output_type": "stream",
     "text": [
      "<html>\n",
      "  <head>\n",
      "    <title>\n",
      "Notebook\n",
      "    </title>\n",
      "  </head>\n",
      "  <body>\n",
      "    <div class=\"cell cell-md markdown\">\n",
      "# a title\n",
      "&gt; A description\n",
      "- key1: value1\n",
      "- key2: value2\n",
      "- categories: [c1, c2]\n",
      "    </div>\n",
      "    <div class=\"cell cell-code\">\n",
      "      <pre class=\"input\">\n",
      "        <code class=\"language-python\">\n",
      "#|hide\n",
      "#|default_exp foobar\n",
      "        </code>\n",
      "      </pre>\n",
      "    </div>\n",
      "    <div class=\"cell cell-md markdown\">\n",
      "some md\n",
      "    </div>\n",
      "    <div class=\"cell cell-code\">\n",
      "      <pre class=\"input\">\n",
      "        <code class=\"language-python\">\n",
      "#|export\n",
      "import re\n",
      "        </code>\n",
      "      </pre>\n",
      "    </div>\n",
      "    <div class=\"cell cell-code\">\n",
      "      <pre class=\"input\">\n",
      "        <code class=\"language-python\">\n",
      "from nbdev.showdoc import show_doc\n",
      "        </code>\n",
      "      </pre>\n",
      "    </div>\n",
      "    <div class=\"cell cell-code\">\n",
      "      <pre class=\"input\">\n",
      "        <code class=\"language-python\">\n",
      "print(&#x27;\\033[94mhello&#x27;)\n",
      "        </code>\n",
      "      </pre>\n",
      "      <div class=\"stream output\">\n",
      "        <pre>\n",
      "hello\n",
      "        </pre>\n",
      "      </div>\n",
      "    </div>\n",
      "    <div class=\"cell cell-code\">\n",
      "      <pre class=\"input\">\n",
      "        <code class=\"language-python\">\n",
      "1+1\n",
      "        </code>\n",
      "      </pre>\n",
      "      <div class=\"execute_result output\">\n",
      "        <pre>\n",
      "2\n",
      "        </pre>\n",
      "      </div>\n",
      "    </div>\n",
      "    <div class=\"cell cell-code\">\n",
      "      <pre class=\"input\">\n",
      "        <code class=\"language-python\">\n",
      "import pandas as pd\n",
      "        </code>\n",
      "      </pre>\n",
      "    </div>\n",
      "    <div class=\"cell cell-code\">\n",
      "      <pre class=\"input\">\n",
      "        <code class=\"language-python\">\n",
      "pd.DataFrame(dict(a=[1,2]))\n",
      "        </code>\n",
      "      </pre>\n",
      "      <div class=\"execute_result output\">\n",
      "        <div class=\"raw\">\n",
      "<div>\n",
      "\n",
      "<style scoped>\n",
      "\n",
      "    .dataframe tbody tr th:only-of-type {\n",
      "\n",
      "        vertical-align: middle;\n",
      "\n",
      "    }\n",
      "\n",
      "\n",
      "\n",
      "    .dataframe tbody tr th {\n",
      "\n",
      "        vertical-align: top;\n",
      "\n",
      "    }\n",
      "\n",
      "\n",
      "\n",
      "    .dataframe thead th {\n",
      "\n",
      "        text-align: right;\n",
      "\n",
      "    }\n",
      "\n",
      "</style>\n",
      "\n",
      "<table border=\"1\" class=\"dataframe\">\n",
      "\n",
      "  <thead>\n",
      "\n",
      "    <tr style=\"text-align: right;\">\n",
      "\n",
      "      <th></th>\n",
      "\n",
      "      <th>a</th>\n",
      "\n",
      "    </tr>\n",
      "\n",
      "  </thead>\n",
      "\n",
      "  <tbody>\n",
      "\n",
      "    <tr>\n",
      "\n",
      "      <th>0</th>\n",
      "\n",
      "      <td>1</td>\n",
      "\n",
      "    </tr>\n",
      "\n",
      "    <tr>\n",
      "\n",
      "      <th>1</th>\n",
      "\n",
      "      <td>2</td>\n",
      "\n",
      "    </tr>\n",
      "\n",
      "  </tbody>\n",
      "\n",
      "</table>\n",
      "\n",
      "</div>\n",
      "        </div>\n",
      "      </div>\n",
      "    </div>\n",
      "    <div class=\"cell cell-code\">\n",
      "      <pre class=\"input\">\n",
      "        <code class=\"language-python\">\n",
      "import matplotlib.pyplot as plt\n",
      "        </code>\n",
      "      </pre>\n",
      "    </div>\n",
      "    <div class=\"cell cell-code\">\n",
      "      <pre class=\"input\">\n",
      "        <code class=\"language-python\">\n",
      "#|notest\n",
      "plt.figure(figsize=(2,1))\n",
      "plt.plot([1,2]);\n",
      "        </code>\n",
      "      </pre>\n",
      "      <div class=\"display_data output\">\n",
      "        <pre>\n",
      "&lt;Figure size 144x72 with 1 Axes&gt;\n",
      "        </pre>\n",
      "      </div>\n",
      "    </div>\n",
      "    <div class=\"cell cell-md markdown\">\n",
      "My pic:\n",
      "![image-2.png](attachment:image-2.png)\n",
      "    </div>\n",
      "    <div class=\"cell cell-code\">\n",
      "      <pre class=\"input\">\n",
      "        <code class=\"language-python\">\n",
      "#|hide\n",
      "print(&#x27;you will not be able to see this cell at all&#x27;)\n",
      "        </code>\n",
      "      </pre>\n",
      "      <div class=\"stream output\">\n",
      "        <pre>\n",
      "you will not be able to see this cell at all\n",
      "        </pre>\n",
      "      </div>\n",
      "    </div>\n",
      "    <div class=\"cell cell-code\">\n",
      "      <pre class=\"input\">\n",
      "        <code class=\"language-python\">\n",
      "def show():\n",
      "    a = 2\n",
      "    b = 3 #|hide_line\n",
      "        </code>\n",
      "      </pre>\n",
      "    </div>\n",
      "    <div class=\"cell cell-code\">\n",
      "      <pre class=\"input\">\n",
      "        <code class=\"language-python\">\n",
      "%%time\n",
      "print(&#x27;hi&#x27;)\n",
      "        </code>\n",
      "      </pre>\n",
      "      <div class=\"stream output\">\n",
      "        <pre>\n",
      "hi\n",
      "\n",
      "CPU times: user 1.32 ms, sys: 165 µs, total: 1.48 ms\n",
      "\n",
      "Wall time: 881 µs\n",
      "        </pre>\n",
      "      </div>\n",
      "    </div>\n",
      "    <div class=\"cell cell-code\">\n",
      "      <pre class=\"input\">\n",
      "        <code class=\"language-python\">\n",
      "%%bash\n",
      "echo hi\n",
      "        </code>\n",
      "      </pre>\n",
      "      <div class=\"stream output\">\n",
      "        <pre>\n",
      "hi\n",
      "        </pre>\n",
      "      </div>\n",
      "    </div>\n",
      "    <div class=\"cell cell-code\">\n",
      "      <pre class=\"input\">\n",
      "        <code class=\"language-python\">\n",
      "#|export\n",
      "def some_func(a=1): ...\n",
      "        </code>\n",
      "      </pre>\n",
      "    </div>\n",
      "    <div class=\"cell cell-code\">\n",
      "      <pre class=\"input\">\n",
      "        <code class=\"language-python\">\n",
      "#|export\n",
      "def another_func(b): \n",
      "    &quot;A link in a docstring: `ModuleMaker`.&quot;\n",
      "    pass\n",
      "def and_another(c): ...\n",
      "        </code>\n",
      "      </pre>\n",
      "    </div>\n",
      "    <div class=\"cell cell-code\">\n",
      "      <pre class=\"input\">\n",
      "        <code class=\"language-python\">\n",
      "show_doc(another_func) # should only appear once\n",
      "        </code>\n",
      "      </pre>\n",
      "      <div class=\"execute_result output\">\n",
      "        <div class=\"markdown\">\n",
      "---\n",
      "\n",
      "\n",
      "\n",
      "#### another_func\n",
      "\n",
      "\n",
      "\n",
      "&gt; **`another_func`**` (b)`\n",
      "\n",
      "\n",
      "\n",
      "A link in a docstring: `ModuleMaker`.\n",
      "        </div>\n",
      "      </div>\n",
      "    </div>\n",
      "    <div class=\"cell cell-code\">\n",
      "      <pre class=\"input\">\n",
      "        <code class=\"language-python\">\n",
      "#|filter_stream FutureWarning MultiIndex\n",
      "print(&#x27;\\n&#x27;.join([&#x27;A line&#x27;, &#x27;Foobar baz FutureWarning blah&#x27;, &#x27;zig zagMultiIndex zoom&#x27;, &#x27;Another line.&#x27;]))\n",
      "        </code>\n",
      "      </pre>\n",
      "      <div class=\"stream output\">\n",
      "        <pre>\n",
      "A line\n",
      "\n",
      "Foobar baz FutureWarning blah\n",
      "\n",
      "zig zagMultiIndex zoom\n",
      "\n",
      "Another line.\n",
      "        </pre>\n",
      "      </div>\n",
      "    </div>\n",
      "    <div class=\"cell cell-code\">\n",
      "      <pre class=\"input\">\n",
      "        <code class=\"language-python\">\n",
      "def cool_func(a):\n",
      "    &#x27;&#x27;&#x27;This cell has &quot;hidden&quot; metadata property&#x27;&#x27;&#x27;\n",
      "    pass\n",
      "        </code>\n",
      "      </pre>\n",
      "    </div>\n",
      "    <div class=\"cell cell-md markdown\">\n",
      "# A heading to Hide -\n",
      "    </div>\n",
      "    <div class=\"cell cell-md markdown\">\n",
      "## Another! Heading -\n",
      "    </div>\n",
      "    <div class=\"cell cell-md markdown\">\n",
      "some words\n",
      "    </div>\n",
      "    <div class=\"cell cell-md markdown\">\n",
      "## Yet another heading to hide. -\n",
      "    </div>\n",
      "    <div class=\"cell cell-md markdown\">\n",
      "This is a link to `numpy.array` and to `ModuleMaker` but not a link to `foobar`.\n",
      "And not a link to &lt;code&gt;dict2nb&lt;/code&gt;.\n",
      "    </div>\n",
      "    <div class=\"cell cell-code\">\n",
      "      <pre class=\"input\">\n",
      "        <code class=\"language-python\">\n",
      "#|exporti\n",
      "class a(Exception): ...\n",
      "        </code>\n",
      "      </pre>\n",
      "    </div>\n",
      "    <div class=\"cell cell-code\">\n",
      "      <pre class=\"input\">\n",
      "        <code class=\"language-python\">\n",
      "#|exports\n",
      "class b(a): ...\n",
      "        </code>\n",
      "      </pre>\n",
      "    </div>\n",
      "    <div class=\"cell cell-code\">\n",
      "      <pre class=\"input\">\n",
      "        <code class=\"language-python\">\n",
      "b()\n",
      "        </code>\n",
      "      </pre>\n",
      "      <div class=\"execute_result output\">\n",
      "        <pre>\n",
      "__main__.b()\n",
      "        </pre>\n",
      "      </div>\n",
      "    </div>\n",
      "    <div class=\"cell cell-code\">\n",
      "      <pre class=\"input\">\n",
      "        <code class=\"language-python\">\n",
      "\n",
      "        </code>\n",
      "      </pre>\n",
      "    </div>\n",
      "  </body>\n",
      "</html>\n",
      "\n"
     ]
    }
   ],
   "source": [
    "fname = Path.home()/'git/nbdev/tests/docs_test.ipynb'\n",
    "nb = nbio.read_nb(fname)\n",
    "print(to_xml(nb_html(nb)))"
   ]
  },
  {
   "cell_type": "markdown",
   "metadata": {},
   "source": [
    "### TODO"
   ]
  },
  {
   "cell_type": "markdown",
   "metadata": {},
   "source": [
    "- Display piccies"
   ]
  },
  {
   "cell_type": "markdown",
   "metadata": {},
   "source": [
    "## export -"
   ]
  },
  {
   "cell_type": "code",
   "execution_count": null,
   "metadata": {},
   "outputs": [],
   "source": [
    "#| hide\n",
    "import nbdev; nbdev.nbdev_export()"
   ]
  },
  {
   "cell_type": "code",
   "execution_count": null,
   "metadata": {},
   "outputs": [],
   "source": []
  }
 ],
 "metadata": {
  "kernelspec": {
   "display_name": "python3",
   "language": "python",
   "name": "python3"
  }
 },
 "nbformat": 4,
 "nbformat_minor": 4
}
