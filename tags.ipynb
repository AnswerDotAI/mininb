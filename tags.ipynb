{
 "cells": [
  {
   "cell_type": "code",
   "execution_count": null,
   "id": "05cfac65",
   "metadata": {},
   "outputs": [],
   "source": [
    "from yattag import Doc, indent\n",
    "from yattag.doc import SimpleDoc\n",
    "from functools import partial\n",
    "from fastcore.utils import *\n",
    "from IPython import display"
   ]
  },
  {
   "cell_type": "code",
   "execution_count": null,
   "id": "3b894dfb",
   "metadata": {},
   "outputs": [],
   "source": [
    "@patch\n",
    "def __repr__(self:Doc): return indent(self.getvalue())\n",
    "\n",
    "@patch\n",
    "def _repr_markdown_(self:Doc): return f'```html\\n{self}\\n```'\n",
    "\n",
    "@patch\n",
    "def doctype(self:Doc): self.asis('<!DOCTYPE html>')\n",
    "\n",
    "@patch\n",
    "def do(self:Doc, tn, *c, **kw): return partial(self.line if c else self.tag, *c, **kw)\n",
    "\n",
    "@patch\n",
    "def __getattr__(self:Doc, tn):\n",
    "    if tn[0]=='_': raise AttributeError\n",
    "    return partial(self.tag, tn)"
   ]
  },
  {
   "cell_type": "code",
   "execution_count": null,
   "id": "e8681719",
   "metadata": {},
   "outputs": [
    {
     "data": {
      "text/markdown": [
       "```html\n",
       "<!DOCTYPE html>\n",
       "<html>\n",
       "  <body>\n",
       "    <h1 Hello, World! class=\"fdsa\"></h1>\n",
       "  </body>\n",
       "</html>\n",
       "```"
      ],
      "text/plain": [
       "<!DOCTYPE html>\n",
       "<html>\n",
       "  <body>\n",
       "    <h1 Hello, World! class=\"fdsa\"></h1>\n",
       "  </body>\n",
       "</html>"
      ]
     },
     "execution_count": null,
     "metadata": {},
     "output_type": "execute_result"
    }
   ],
   "source": [
    "d,t,tx = Doc().tagtext()\n",
    "\n",
    "d.doctype()\n",
    "with d.html():\n",
    "    with d.body():\n",
    "        with d.h1('Hello, World!', klass='fdsa'):...\n",
    "d"
   ]
  },
  {
   "cell_type": "code",
   "execution_count": null,
   "id": "917893cc",
   "metadata": {},
   "outputs": [],
   "source": []
  },
  {
   "cell_type": "code",
   "execution_count": null,
   "id": "aa8b5ae0",
   "metadata": {},
   "outputs": [],
   "source": [
    "import types, xml.etree.ElementTree as ET\n",
    "from dataclasses import dataclass\n",
    "from functools import partial\n",
    "from litestar.exceptions import NotFoundException\n",
    "from fastcore.utils import *"
   ]
  },
  {
   "cell_type": "code",
   "execution_count": null,
   "id": "f0e1752b",
   "metadata": {},
   "outputs": [],
   "source": [
    "def _attrmap(o):\n",
    "    return dict(cls='class', klass='class', fr='for').get(o, o)\n",
    "\n",
    "def xt(tag:str, *c, **kw):\n",
    "    if len(c)==1 and isinstance(c[0], types.GeneratorType): c = tuple(c[0])\n",
    "    elif len(c)==1 and isinstance(c[0],str): c = c[0]\n",
    "    kw = {_attrmap(k.lstrip('_')):str(v) for k,v in kw.items()}\n",
    "    return [tag.lower(),c,kw]"
   ]
  },
  {
   "cell_type": "code",
   "execution_count": null,
   "id": "1b8cfa80",
   "metadata": {},
   "outputs": [],
   "source": [
    "g = globals()\n",
    "tags = '''html head title meta link style body div span p h1 h2 h3 h4 h5 h6 strong em b i u s\n",
    "strike sub sup hr br img a link nav ul ol li dl dt dd table thead tbody tfoot tr th td caption\n",
    "col colgroup form input textarea button select option label fieldset legend details summary main\n",
    "header footer section article aside figure figcaption mark small iframe object embed param video\n",
    "audio source canvas svg math script noscript template slot'.split()'''.split()\n",
    "for o in tags: g[o.capitalize()] = partial(xt, o)\n",
    "\n",
    "def to_xml(node:tuple):\n",
    "    \"Convert `node` to an XML string.\"\n",
    "    def mk_el(tag, cs, attrs):\n",
    "        el = ET.Element(tag, attrib=attrs)\n",
    "        if isinstance(cs, tuple): el.extend([mk_el(*o) for o in cs])\n",
    "        elif cs is not None: el.text = str(cs)\n",
    "        return el\n",
    "\n",
    "    root = mk_el(*node)\n",
    "    ET.indent(root)\n",
    "    return ET.tostring(root, encoding='unicode')"
   ]
  },
  {
   "cell_type": "code",
   "execution_count": null,
   "id": "0e6d4291",
   "metadata": {},
   "outputs": [],
   "source": [
    "@dataclass\n",
    "class TodoItem:\n",
    "    id: int\n",
    "    title: str\n",
    "    done: bool\n",
    "    def tag(self): return A(self.title, href=f'/todos/{self.id}')"
   ]
  },
  {
   "cell_type": "code",
   "execution_count": null,
   "id": "fb6ce028",
   "metadata": {},
   "outputs": [],
   "source": [
    "TODO_LIST: list[TodoItem] = [\n",
    "    TodoItem(0, title=\"Start writing TODO list\", done=True),\n",
    "    TodoItem(1, title=\"???\", done=False),\n",
    "    TodoItem(2, title=\"Profit\", done=False),\n",
    "]"
   ]
  },
  {
   "cell_type": "code",
   "execution_count": null,
   "id": "3e4c83d0",
   "metadata": {},
   "outputs": [],
   "source": [
    "def get_todo_by_title(todo_name) -> TodoItem:\n",
    "    try: return next(o for o in TODO_LIST if o.title == todo_name)\n",
    "    except: raise NotFoundException(detail=f\"TODO {todo_name!r} not found\") from None\n",
    "\n",
    "def add_item(data: TodoItem) -> list[TodoItem]:\n",
    "    TODO_LIST.append(data)\n",
    "    return TODO_LIST\n",
    "\n",
    "def update_item(item_title: str, data: TodoItem) -> list[TodoItem]:\n",
    "    todo_item = get_todo_by_title(item_title)\n",
    "    todo_item.title = data.title\n",
    "    todo_item.done = data.done\n",
    "    return TODO_LIST\n",
    "\n",
    "async def get_list(done: bool|None = None) -> str:\n",
    "    todos = TODO_LIST if done is None else [\n",
    "        item for item in TODO_LIST if item.done == done]\n",
    "    tlist = Ul(Li(item.tag()) for item in todos)\n",
    "    res = Html(Body(H1('TODO list'), tlist))\n",
    "    return to_xml(res)"
   ]
  },
  {
   "cell_type": "code",
   "execution_count": null,
   "id": "08cd0ec0",
   "metadata": {},
   "outputs": [
    {
     "name": "stdout",
     "output_type": "stream",
     "text": [
      "<html>\n",
      "  <body>\n",
      "    <h1>TODO list</h1>\n",
      "    <ul>\n",
      "      <li>\n",
      "        <a href=\"/todos/0\">Start writing TODO list</a>\n",
      "      </li>\n",
      "      <li>\n",
      "        <a href=\"/todos/1\">???</a>\n",
      "      </li>\n",
      "      <li>\n",
      "        <a href=\"/todos/2\">Profit</a>\n",
      "      </li>\n",
      "    </ul>\n",
      "  </body>\n",
      "</html>\n"
     ]
    }
   ],
   "source": [
    "print(await get_list())"
   ]
  },
  {
   "cell_type": "code",
   "execution_count": null,
   "id": "4b9ba88b",
   "metadata": {},
   "outputs": [
    {
     "name": "stdout",
     "output_type": "stream",
     "text": [
      "TodoItem(id=2, title='Profit', done=False)\n"
     ]
    }
   ],
   "source": [
    "print(get_todo_by_title('Profit'))"
   ]
  },
  {
   "cell_type": "code",
   "execution_count": null,
   "id": "8fea7f09",
   "metadata": {},
   "outputs": [],
   "source": []
  }
 ],
 "metadata": {
  "kernelspec": {
   "display_name": "python3",
   "language": "python",
   "name": "python3"
  }
 },
 "nbformat": 4,
 "nbformat_minor": 5
}
